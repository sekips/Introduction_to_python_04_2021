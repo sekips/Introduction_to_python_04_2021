{
 "cells": [
  {
   "cell_type": "markdown",
   "metadata": {},
   "source": [
    "# Python入門第4回_（医用機械学習入門の手引き追記版）<div style=\"text-align: right; font-size: 50%;\">2021年6月29日火曜日18:00-19:30</div>"
   ]
  },
  {
   "cell_type": "markdown",
   "metadata": {},
   "source": [
    "台湾の院内心肺停止患者796名の臨床的情報と退院時の神経学的予後のデータ(https://journals.plos.org/plosone/article?id=10.1371/journal.pone.0202938 )から前回作成した`cpa_data_preprocessed.csv`を使って、実際に臨床情報から患者の退院時の神経学的予後を予測する機械学習モデルを作成したいと思います。"
   ]
  },
  {
   "cell_type": "markdown",
   "metadata": {},
   "source": [
    "## 1.  Numpyの紹介"
   ]
  },
  {
   "cell_type": "markdown",
   "metadata": {},
   "source": [
    "実際にモデル作成の工程に移る前に、numpyモジュールのndarrayというデータ形式について説明します。numpyは数値計算を効率的に行うためのモジュールであり、行列計算をはじめとした計算操作に非常に便利なモジュールです。そこで主に扱われるndarray形式のデータは、今回直接計算には使いませんが、Pythonを用いた機械学習領域では頻用されること、今回の機械学習モジュールでも返り値がndarray形式で返されることがあることから、簡単に紹介しておきます。  "
   ]
  },
  {
   "cell_type": "markdown",
   "metadata": {},
   "source": [
    "まず、下記のセルでnumpyライブラリをnpという名前でインポートします。"
   ]
  },
  {
   "cell_type": "code",
   "execution_count": 1,
   "metadata": {},
   "outputs": [],
   "source": [
    "import numpy as np"
   ]
  },
  {
   "cell_type": "markdown",
   "metadata": {},
   "source": [
    "練習用にtest_listというリストデータ型のオブジェクトを作ります。"
   ]
  },
  {
   "cell_type": "code",
   "execution_count": 2,
   "metadata": {},
   "outputs": [],
   "source": [
    "test_list = [0, 1, 2, 3, 4, 5]"
   ]
  },
  {
   "cell_type": "code",
   "execution_count": 3,
   "metadata": {},
   "outputs": [
    {
     "name": "stdout",
     "output_type": "stream",
     "text": [
      "[0, 1, 2, 3, 4, 5]\n"
     ]
    }
   ],
   "source": [
    "print(test_list)"
   ]
  },
  {
   "cell_type": "code",
   "execution_count": 4,
   "metadata": {},
   "outputs": [
    {
     "data": {
      "text/plain": [
       "list"
      ]
     },
     "execution_count": 4,
     "metadata": {},
     "output_type": "execute_result"
    }
   ],
   "source": [
    "type(test_list)"
   ]
  },
  {
   "cell_type": "markdown",
   "metadata": {},
   "source": [
    "numpyのarray関数を使って、test_listをndarrayというデータ型のオブジェクトに作り替えてみます。"
   ]
  },
  {
   "cell_type": "code",
   "execution_count": 5,
   "metadata": {},
   "outputs": [],
   "source": [
    "test_list_np = np.array(test_list)"
   ]
  },
  {
   "cell_type": "code",
   "execution_count": 6,
   "metadata": {},
   "outputs": [
    {
     "name": "stdout",
     "output_type": "stream",
     "text": [
      "[0 1 2 3 4 5]\n"
     ]
    }
   ],
   "source": [
    "print(test_list_np)"
   ]
  },
  {
   "cell_type": "code",
   "execution_count": 7,
   "metadata": {},
   "outputs": [
    {
     "data": {
      "text/plain": [
       "numpy.ndarray"
      ]
     },
     "execution_count": 7,
     "metadata": {},
     "output_type": "execute_result"
    }
   ],
   "source": [
    "type(test_list_np)"
   ]
  },
  {
   "cell_type": "markdown",
   "metadata": {},
   "source": [
    "リストデータ型のオブジェクトとndarrayオブジェクトについて計算上の違いを確認してみます。"
   ]
  },
  {
   "cell_type": "markdown",
   "metadata": {},
   "source": [
    "まずリストデータ型で簡単な演算子を使ってみます。"
   ]
  },
  {
   "cell_type": "code",
   "execution_count": 8,
   "metadata": {},
   "outputs": [
    {
     "data": {
      "text/plain": [
       "[0, 1, 2, 3, 4, 5, 0, 1, 2, 3, 4, 5]"
      ]
     },
     "execution_count": 8,
     "metadata": {},
     "output_type": "execute_result"
    }
   ],
   "source": [
    "test_list + test_list"
   ]
  },
  {
   "cell_type": "code",
   "execution_count": 9,
   "metadata": {},
   "outputs": [
    {
     "data": {
      "text/plain": [
       "[0, 1, 2, 3, 4, 5, 0, 1, 2, 3, 4, 5]"
      ]
     },
     "execution_count": 9,
     "metadata": {},
     "output_type": "execute_result"
    }
   ],
   "source": [
    "test_list * 2"
   ]
  },
  {
   "cell_type": "markdown",
   "metadata": {},
   "source": [
    "リスト同士は掛け算できません。下記を実行するとエラーが出ます。"
   ]
  },
  {
   "cell_type": "code",
   "execution_count": 10,
   "metadata": {},
   "outputs": [
    {
     "ename": "TypeError",
     "evalue": "can't multiply sequence by non-int of type 'list'",
     "output_type": "error",
     "traceback": [
      "\u001b[0;31m---------------------------------------------------------------------------\u001b[0m",
      "\u001b[0;31mTypeError\u001b[0m                                 Traceback (most recent call last)",
      "\u001b[0;32m<ipython-input-10-4a5e8c63255c>\u001b[0m in \u001b[0;36m<module>\u001b[0;34m\u001b[0m\n\u001b[0;32m----> 1\u001b[0;31m \u001b[0mtest_list\u001b[0m \u001b[0;34m*\u001b[0m \u001b[0mtest_list\u001b[0m\u001b[0;34m\u001b[0m\u001b[0;34m\u001b[0m\u001b[0m\n\u001b[0m",
      "\u001b[0;31mTypeError\u001b[0m: can't multiply sequence by non-int of type 'list'"
     ]
    }
   ],
   "source": [
    "test_list * test_list"
   ]
  },
  {
   "cell_type": "markdown",
   "metadata": {},
   "source": [
    "次にndarrayで簡単な演算子を使ってみます。ndarrayでは要素同士の計算をしてくれます。"
   ]
  },
  {
   "cell_type": "code",
   "execution_count": 11,
   "metadata": {},
   "outputs": [
    {
     "data": {
      "text/plain": [
       "array([ 0,  2,  4,  6,  8, 10])"
      ]
     },
     "execution_count": 11,
     "metadata": {},
     "output_type": "execute_result"
    }
   ],
   "source": [
    "test_list_np + test_list_np"
   ]
  },
  {
   "cell_type": "code",
   "execution_count": 12,
   "metadata": {},
   "outputs": [
    {
     "data": {
      "text/plain": [
       "array([ 0,  2,  4,  6,  8, 10])"
      ]
     },
     "execution_count": 12,
     "metadata": {},
     "output_type": "execute_result"
    }
   ],
   "source": [
    "test_list_np * 2"
   ]
  },
  {
   "cell_type": "code",
   "execution_count": 13,
   "metadata": {},
   "outputs": [
    {
     "data": {
      "text/plain": [
       "array([ 0,  1,  4,  9, 16, 25])"
      ]
     },
     "execution_count": 13,
     "metadata": {},
     "output_type": "execute_result"
    }
   ],
   "source": [
    "test_list_np * test_list_np"
   ]
  },
  {
   "cell_type": "markdown",
   "metadata": {},
   "source": [
    "ndarrayはreshapeメソッドで変形することができます。"
   ]
  },
  {
   "cell_type": "code",
   "execution_count": 14,
   "metadata": {},
   "outputs": [
    {
     "data": {
      "text/plain": [
       "array([[0, 1, 2],\n",
       "       [3, 4, 5]])"
      ]
     },
     "execution_count": 14,
     "metadata": {},
     "output_type": "execute_result"
    }
   ],
   "source": [
    "test_list_np_reshape = test_list_np.reshape(2,3)\n",
    "test_list_np_reshape"
   ]
  },
  {
   "cell_type": "markdown",
   "metadata": {},
   "source": [
    "ndarrayは`.shape`メソッドで次元数を確認できます。"
   ]
  },
  {
   "cell_type": "code",
   "execution_count": 15,
   "metadata": {},
   "outputs": [
    {
     "data": {
      "text/plain": [
       "(2, 3)"
      ]
     },
     "execution_count": 15,
     "metadata": {},
     "output_type": "execute_result"
    }
   ],
   "source": [
    "test_list_np_reshape.shape"
   ]
  },
  {
   "cell_type": "markdown",
   "metadata": {},
   "source": [
    "ndarrayはどんな次元数であっても、計算するndarray同士の次元数があっていれば要素同士の計算をしてくれます。"
   ]
  },
  {
   "cell_type": "code",
   "execution_count": 16,
   "metadata": {},
   "outputs": [
    {
     "data": {
      "text/plain": [
       "array([[ 0,  1,  4],\n",
       "       [ 9, 16, 25]])"
      ]
     },
     "execution_count": 16,
     "metadata": {},
     "output_type": "execute_result"
    }
   ],
   "source": [
    "test_list_np_reshape * test_list_np_reshape"
   ]
  },
  {
   "cell_type": "markdown",
   "metadata": {},
   "source": [
    "ndarrayは`.T`で転置できます。"
   ]
  },
  {
   "cell_type": "code",
   "execution_count": 17,
   "metadata": {},
   "outputs": [
    {
     "data": {
      "text/plain": [
       "array([[0, 3],\n",
       "       [1, 4],\n",
       "       [2, 5]])"
      ]
     },
     "execution_count": 17,
     "metadata": {},
     "output_type": "execute_result"
    }
   ],
   "source": [
    "test_list_np_reshape.T"
   ]
  },
  {
   "cell_type": "markdown",
   "metadata": {},
   "source": [
    "ndarrayは、計算するndarray同士の次元数が異なっていても、いずれかの次元が合致していれば他の足りない部分まで自動で補完して要素同士の計算をしてくれます。下は3行2列のデータと1行2列のデータの掛け算です。"
   ]
  },
  {
   "cell_type": "code",
   "execution_count": 18,
   "metadata": {},
   "outputs": [
    {
     "data": {
      "text/plain": [
       "array([[ 0, 30],\n",
       "       [ 1, 40],\n",
       "       [ 2, 50]])"
      ]
     },
     "execution_count": 18,
     "metadata": {},
     "output_type": "execute_result"
    }
   ],
   "source": [
    "test_list_np_reshape.T * np.array([1, 10])"
   ]
  },
  {
   "cell_type": "markdown",
   "metadata": {},
   "source": [
    "**練習問題1**：numpyのarray関数を使って、配列`[0, 1, 2]`と`[3, 4, 5]`をそれぞれ等しい位置にある整数どうしを掛け合わせて並べた配列を作成してください。"
   ]
  },
  {
   "cell_type": "code",
   "execution_count": 19,
   "metadata": {},
   "outputs": [
    {
     "data": {
      "text/plain": [
       "array([ 0,  4, 10])"
      ]
     },
     "execution_count": 19,
     "metadata": {},
     "output_type": "execute_result"
    }
   ],
   "source": [
    "np.array([0, 1, 2]) * np.array([3, 4, 5])"
   ]
  },
  {
   "cell_type": "markdown",
   "metadata": {},
   "source": [
    "## 2. 機械学習(教師あり学習)による予測モデル作成"
   ]
  },
  {
   "cell_type": "markdown",
   "metadata": {},
   "source": [
    "機械学習とは、データからパターンを機械的に抽出させ、それによってアルゴリズムを作成させる手法です。その中でも教師あり学習と呼ばれる方法は、既存の答えの分かっているデータから予測モデルを作成する際に利用されます。"
   ]
  },
  {
   "cell_type": "markdown",
   "metadata": {},
   "source": [
    "### 2-1. 機械学習のためのデータ分割"
   ]
  },
  {
   "cell_type": "markdown",
   "metadata": {},
   "source": [
    "ここからは前回前処理を行って作成した`cpa_data_preprocessed.csv`を使って、機械学習を行って予測モデルを作っていきます。データフレームを使うため、まずpandasをimportし、pd.read_csv関数を使って`cpa_data_preprocessed.csv`をデータフレーム形式で読み込みます。"
   ]
  },
  {
   "cell_type": "code",
   "execution_count": 20,
   "metadata": {},
   "outputs": [],
   "source": [
    "import pandas as pd  "
   ]
  },
  {
   "cell_type": "code",
   "execution_count": 21,
   "metadata": {},
   "outputs": [],
   "source": [
    "df = pd.read_csv('cpa_data_preprocessed.csv')"
   ]
  },
  {
   "cell_type": "markdown",
   "metadata": {},
   "source": [
    "読み込んだdfを表示してみます。"
   ]
  },
  {
   "cell_type": "code",
   "execution_count": 22,
   "metadata": {},
   "outputs": [
    {
     "data": {
      "text/html": [
       "<div>\n",
       "<style scoped>\n",
       "    .dataframe tbody tr th:only-of-type {\n",
       "        vertical-align: middle;\n",
       "    }\n",
       "\n",
       "    .dataframe tbody tr th {\n",
       "        vertical-align: top;\n",
       "    }\n",
       "\n",
       "    .dataframe thead th {\n",
       "        text-align: right;\n",
       "    }\n",
       "</style>\n",
       "<table border=\"1\" class=\"dataframe\">\n",
       "  <thead>\n",
       "    <tr style=\"text-align: right;\">\n",
       "      <th></th>\n",
       "      <th>Age</th>\n",
       "      <th>Male</th>\n",
       "      <th>Respiratory insufficiency</th>\n",
       "      <th>Renal insufficiency</th>\n",
       "      <th>Arrhythmia</th>\n",
       "      <th>Diabetes mellitus</th>\n",
       "      <th>Hypotension</th>\n",
       "      <th>Heart failure, prior admission</th>\n",
       "      <th>Heart failure, this admission</th>\n",
       "      <th>Myocardial infarction, prior admission</th>\n",
       "      <th>...</th>\n",
       "      <th>Year of Arrest_2009</th>\n",
       "      <th>Year of Arrest_2010</th>\n",
       "      <th>Year of Arrest_2011</th>\n",
       "      <th>Year of Arrest_2012</th>\n",
       "      <th>Year of Arrest_2013</th>\n",
       "      <th>Year of Arrest_2014</th>\n",
       "      <th>Initial cardiac arrest rhythm_1</th>\n",
       "      <th>Initial cardiac arrest rhythm_2</th>\n",
       "      <th>Arrest location_1</th>\n",
       "      <th>Arrest location_2</th>\n",
       "    </tr>\n",
       "  </thead>\n",
       "  <tbody>\n",
       "    <tr>\n",
       "      <th>0</th>\n",
       "      <td>65</td>\n",
       "      <td>0</td>\n",
       "      <td>1</td>\n",
       "      <td>0</td>\n",
       "      <td>0</td>\n",
       "      <td>1</td>\n",
       "      <td>0</td>\n",
       "      <td>0</td>\n",
       "      <td>0</td>\n",
       "      <td>0</td>\n",
       "      <td>...</td>\n",
       "      <td>0</td>\n",
       "      <td>0</td>\n",
       "      <td>1</td>\n",
       "      <td>0</td>\n",
       "      <td>0</td>\n",
       "      <td>0</td>\n",
       "      <td>0</td>\n",
       "      <td>1</td>\n",
       "      <td>1</td>\n",
       "      <td>0</td>\n",
       "    </tr>\n",
       "    <tr>\n",
       "      <th>1</th>\n",
       "      <td>59</td>\n",
       "      <td>1</td>\n",
       "      <td>1</td>\n",
       "      <td>1</td>\n",
       "      <td>0</td>\n",
       "      <td>0</td>\n",
       "      <td>0</td>\n",
       "      <td>1</td>\n",
       "      <td>1</td>\n",
       "      <td>0</td>\n",
       "      <td>...</td>\n",
       "      <td>0</td>\n",
       "      <td>0</td>\n",
       "      <td>1</td>\n",
       "      <td>0</td>\n",
       "      <td>0</td>\n",
       "      <td>0</td>\n",
       "      <td>0</td>\n",
       "      <td>1</td>\n",
       "      <td>1</td>\n",
       "      <td>0</td>\n",
       "    </tr>\n",
       "    <tr>\n",
       "      <th>2</th>\n",
       "      <td>85</td>\n",
       "      <td>0</td>\n",
       "      <td>0</td>\n",
       "      <td>0</td>\n",
       "      <td>0</td>\n",
       "      <td>0</td>\n",
       "      <td>0</td>\n",
       "      <td>0</td>\n",
       "      <td>0</td>\n",
       "      <td>0</td>\n",
       "      <td>...</td>\n",
       "      <td>0</td>\n",
       "      <td>0</td>\n",
       "      <td>1</td>\n",
       "      <td>0</td>\n",
       "      <td>0</td>\n",
       "      <td>0</td>\n",
       "      <td>0</td>\n",
       "      <td>0</td>\n",
       "      <td>1</td>\n",
       "      <td>0</td>\n",
       "    </tr>\n",
       "    <tr>\n",
       "      <th>3</th>\n",
       "      <td>90</td>\n",
       "      <td>1</td>\n",
       "      <td>1</td>\n",
       "      <td>1</td>\n",
       "      <td>0</td>\n",
       "      <td>0</td>\n",
       "      <td>0</td>\n",
       "      <td>0</td>\n",
       "      <td>0</td>\n",
       "      <td>1</td>\n",
       "      <td>...</td>\n",
       "      <td>0</td>\n",
       "      <td>0</td>\n",
       "      <td>1</td>\n",
       "      <td>0</td>\n",
       "      <td>0</td>\n",
       "      <td>0</td>\n",
       "      <td>0</td>\n",
       "      <td>0</td>\n",
       "      <td>1</td>\n",
       "      <td>0</td>\n",
       "    </tr>\n",
       "    <tr>\n",
       "      <th>4</th>\n",
       "      <td>97</td>\n",
       "      <td>0</td>\n",
       "      <td>1</td>\n",
       "      <td>0</td>\n",
       "      <td>0</td>\n",
       "      <td>1</td>\n",
       "      <td>0</td>\n",
       "      <td>0</td>\n",
       "      <td>1</td>\n",
       "      <td>0</td>\n",
       "      <td>...</td>\n",
       "      <td>0</td>\n",
       "      <td>0</td>\n",
       "      <td>1</td>\n",
       "      <td>0</td>\n",
       "      <td>0</td>\n",
       "      <td>0</td>\n",
       "      <td>0</td>\n",
       "      <td>1</td>\n",
       "      <td>0</td>\n",
       "      <td>0</td>\n",
       "    </tr>\n",
       "    <tr>\n",
       "      <th>...</th>\n",
       "      <td>...</td>\n",
       "      <td>...</td>\n",
       "      <td>...</td>\n",
       "      <td>...</td>\n",
       "      <td>...</td>\n",
       "      <td>...</td>\n",
       "      <td>...</td>\n",
       "      <td>...</td>\n",
       "      <td>...</td>\n",
       "      <td>...</td>\n",
       "      <td>...</td>\n",
       "      <td>...</td>\n",
       "      <td>...</td>\n",
       "      <td>...</td>\n",
       "      <td>...</td>\n",
       "      <td>...</td>\n",
       "      <td>...</td>\n",
       "      <td>...</td>\n",
       "      <td>...</td>\n",
       "      <td>...</td>\n",
       "      <td>...</td>\n",
       "    </tr>\n",
       "    <tr>\n",
       "      <th>791</th>\n",
       "      <td>76</td>\n",
       "      <td>1</td>\n",
       "      <td>0</td>\n",
       "      <td>1</td>\n",
       "      <td>0</td>\n",
       "      <td>1</td>\n",
       "      <td>0</td>\n",
       "      <td>0</td>\n",
       "      <td>0</td>\n",
       "      <td>0</td>\n",
       "      <td>...</td>\n",
       "      <td>0</td>\n",
       "      <td>0</td>\n",
       "      <td>0</td>\n",
       "      <td>0</td>\n",
       "      <td>0</td>\n",
       "      <td>0</td>\n",
       "      <td>0</td>\n",
       "      <td>0</td>\n",
       "      <td>0</td>\n",
       "      <td>0</td>\n",
       "    </tr>\n",
       "    <tr>\n",
       "      <th>792</th>\n",
       "      <td>87</td>\n",
       "      <td>0</td>\n",
       "      <td>1</td>\n",
       "      <td>0</td>\n",
       "      <td>1</td>\n",
       "      <td>1</td>\n",
       "      <td>0</td>\n",
       "      <td>0</td>\n",
       "      <td>1</td>\n",
       "      <td>0</td>\n",
       "      <td>...</td>\n",
       "      <td>0</td>\n",
       "      <td>0</td>\n",
       "      <td>0</td>\n",
       "      <td>0</td>\n",
       "      <td>0</td>\n",
       "      <td>0</td>\n",
       "      <td>1</td>\n",
       "      <td>0</td>\n",
       "      <td>0</td>\n",
       "      <td>1</td>\n",
       "    </tr>\n",
       "    <tr>\n",
       "      <th>793</th>\n",
       "      <td>52</td>\n",
       "      <td>0</td>\n",
       "      <td>0</td>\n",
       "      <td>0</td>\n",
       "      <td>0</td>\n",
       "      <td>0</td>\n",
       "      <td>0</td>\n",
       "      <td>0</td>\n",
       "      <td>0</td>\n",
       "      <td>0</td>\n",
       "      <td>...</td>\n",
       "      <td>0</td>\n",
       "      <td>0</td>\n",
       "      <td>0</td>\n",
       "      <td>0</td>\n",
       "      <td>0</td>\n",
       "      <td>0</td>\n",
       "      <td>1</td>\n",
       "      <td>0</td>\n",
       "      <td>0</td>\n",
       "      <td>0</td>\n",
       "    </tr>\n",
       "    <tr>\n",
       "      <th>794</th>\n",
       "      <td>57</td>\n",
       "      <td>0</td>\n",
       "      <td>1</td>\n",
       "      <td>0</td>\n",
       "      <td>0</td>\n",
       "      <td>0</td>\n",
       "      <td>0</td>\n",
       "      <td>1</td>\n",
       "      <td>1</td>\n",
       "      <td>0</td>\n",
       "      <td>...</td>\n",
       "      <td>0</td>\n",
       "      <td>0</td>\n",
       "      <td>0</td>\n",
       "      <td>0</td>\n",
       "      <td>0</td>\n",
       "      <td>0</td>\n",
       "      <td>0</td>\n",
       "      <td>0</td>\n",
       "      <td>0</td>\n",
       "      <td>0</td>\n",
       "    </tr>\n",
       "    <tr>\n",
       "      <th>795</th>\n",
       "      <td>76</td>\n",
       "      <td>1</td>\n",
       "      <td>1</td>\n",
       "      <td>1</td>\n",
       "      <td>0</td>\n",
       "      <td>1</td>\n",
       "      <td>0</td>\n",
       "      <td>1</td>\n",
       "      <td>1</td>\n",
       "      <td>0</td>\n",
       "      <td>...</td>\n",
       "      <td>0</td>\n",
       "      <td>0</td>\n",
       "      <td>0</td>\n",
       "      <td>0</td>\n",
       "      <td>0</td>\n",
       "      <td>1</td>\n",
       "      <td>0</td>\n",
       "      <td>1</td>\n",
       "      <td>0</td>\n",
       "      <td>0</td>\n",
       "    </tr>\n",
       "  </tbody>\n",
       "</table>\n",
       "<p>796 rows × 48 columns</p>\n",
       "</div>"
      ],
      "text/plain": [
       "     Age  Male  Respiratory insufficiency  Renal insufficiency  Arrhythmia  \\\n",
       "0     65     0                          1                    0           0   \n",
       "1     59     1                          1                    1           0   \n",
       "2     85     0                          0                    0           0   \n",
       "3     90     1                          1                    1           0   \n",
       "4     97     0                          1                    0           0   \n",
       "..   ...   ...                        ...                  ...         ...   \n",
       "791   76     1                          0                    1           0   \n",
       "792   87     0                          1                    0           1   \n",
       "793   52     0                          0                    0           0   \n",
       "794   57     0                          1                    0           0   \n",
       "795   76     1                          1                    1           0   \n",
       "\n",
       "     Diabetes mellitus  Hypotension  Heart failure, prior admission  \\\n",
       "0                    1            0                               0   \n",
       "1                    0            0                               1   \n",
       "2                    0            0                               0   \n",
       "3                    0            0                               0   \n",
       "4                    1            0                               0   \n",
       "..                 ...          ...                             ...   \n",
       "791                  1            0                               0   \n",
       "792                  1            0                               0   \n",
       "793                  0            0                               0   \n",
       "794                  0            0                               1   \n",
       "795                  1            0                               1   \n",
       "\n",
       "     Heart failure, this admission  Myocardial infarction, prior admission  \\\n",
       "0                                0                                       0   \n",
       "1                                1                                       0   \n",
       "2                                0                                       0   \n",
       "3                                0                                       1   \n",
       "4                                1                                       0   \n",
       "..                             ...                                     ...   \n",
       "791                              0                                       0   \n",
       "792                              1                                       0   \n",
       "793                              0                                       0   \n",
       "794                              1                                       0   \n",
       "795                              1                                       0   \n",
       "\n",
       "     ...  Year of Arrest_2009  Year of Arrest_2010  Year of Arrest_2011  \\\n",
       "0    ...                    0                    0                    1   \n",
       "1    ...                    0                    0                    1   \n",
       "2    ...                    0                    0                    1   \n",
       "3    ...                    0                    0                    1   \n",
       "4    ...                    0                    0                    1   \n",
       "..   ...                  ...                  ...                  ...   \n",
       "791  ...                    0                    0                    0   \n",
       "792  ...                    0                    0                    0   \n",
       "793  ...                    0                    0                    0   \n",
       "794  ...                    0                    0                    0   \n",
       "795  ...                    0                    0                    0   \n",
       "\n",
       "     Year of Arrest_2012  Year of Arrest_2013  Year of Arrest_2014  \\\n",
       "0                      0                    0                    0   \n",
       "1                      0                    0                    0   \n",
       "2                      0                    0                    0   \n",
       "3                      0                    0                    0   \n",
       "4                      0                    0                    0   \n",
       "..                   ...                  ...                  ...   \n",
       "791                    0                    0                    0   \n",
       "792                    0                    0                    0   \n",
       "793                    0                    0                    0   \n",
       "794                    0                    0                    0   \n",
       "795                    0                    0                    1   \n",
       "\n",
       "     Initial cardiac arrest rhythm_1  Initial cardiac arrest rhythm_2  \\\n",
       "0                                  0                                1   \n",
       "1                                  0                                1   \n",
       "2                                  0                                0   \n",
       "3                                  0                                0   \n",
       "4                                  0                                1   \n",
       "..                               ...                              ...   \n",
       "791                                0                                0   \n",
       "792                                1                                0   \n",
       "793                                1                                0   \n",
       "794                                0                                0   \n",
       "795                                0                                1   \n",
       "\n",
       "     Arrest location_1  Arrest location_2  \n",
       "0                    1                  0  \n",
       "1                    1                  0  \n",
       "2                    1                  0  \n",
       "3                    1                  0  \n",
       "4                    0                  0  \n",
       "..                 ...                ...  \n",
       "791                  0                  0  \n",
       "792                  0                  1  \n",
       "793                  0                  0  \n",
       "794                  0                  0  \n",
       "795                  0                  0  \n",
       "\n",
       "[796 rows x 48 columns]"
      ]
     },
     "execution_count": 22,
     "metadata": {},
     "output_type": "execute_result"
    }
   ],
   "source": [
    "df"
   ]
  },
  {
   "cell_type": "markdown",
   "metadata": {},
   "source": [
    "`df.info()`で概観を再度確認します。"
   ]
  },
  {
   "cell_type": "code",
   "execution_count": 23,
   "metadata": {},
   "outputs": [
    {
     "name": "stdout",
     "output_type": "stream",
     "text": [
      "<class 'pandas.core.frame.DataFrame'>\n",
      "RangeIndex: 796 entries, 0 to 795\n",
      "Data columns (total 48 columns):\n",
      " #   Column                                               Non-Null Count  Dtype  \n",
      "---  ------                                               --------------  -----  \n",
      " 0   Age                                                  796 non-null    int64  \n",
      " 1   Male                                                 796 non-null    int64  \n",
      " 2   Respiratory insufficiency                            796 non-null    int64  \n",
      " 3   Renal insufficiency                                  796 non-null    int64  \n",
      " 4   Arrhythmia                                           796 non-null    int64  \n",
      " 5   Diabetes mellitus                                    796 non-null    int64  \n",
      " 6   Hypotension                                          796 non-null    int64  \n",
      " 7   Heart failure, prior admission                       796 non-null    int64  \n",
      " 8   Heart failure, this admission                        796 non-null    int64  \n",
      " 9   Myocardial infarction, prior admission               796 non-null    int64  \n",
      " 10  Myocardial infarction, this admission                796 non-null    int64  \n",
      " 11  Metabolic or electrolyte abnormality                 796 non-null    int64  \n",
      " 12  Sepsis                                               796 non-null    int64  \n",
      " 13  Pneumonia                                            796 non-null    int64  \n",
      " 14  Metastatic or hematologic malignant disease          796 non-null    int64  \n",
      " 15  Baseline depression in CNSc function                 796 non-null    int64  \n",
      " 16  Hepatic insufficiency                                796 non-null    int64  \n",
      " 17  Acute stroke                                         796 non-null    int64  \n",
      " 18  Cardiopulmonary resuscitation during or before 2010  796 non-null    int64  \n",
      " 19  CPR Duration                                         796 non-null    float64\n",
      " 20  Time to defibrillation                               796 non-null    int64  \n",
      " 21  Arrest at night                                      796 non-null    int64  \n",
      " 22  Arrest on weekend                                    796 non-null    int64  \n",
      " 23  Mechanical ventilation                               796 non-null    int64  \n",
      " 24  Intravenous vasopressors                             796 non-null    int64  \n",
      " 25  Intravenous antiarrhythmics                          796 non-null    int64  \n",
      " 26  Pulmonary artery catheter                            796 non-null    int64  \n",
      " 27  Hemodialysis                                         796 non-null    int64  \n",
      " 28  Intra-aortic balloon pumping                         796 non-null    int64  \n",
      " 29  CASPRI score                                         796 non-null    int64  \n",
      " 30  Prognosis                                            796 non-null    int64  \n",
      " 31  CPC score 24 h before cardiac arrest_1               796 non-null    int64  \n",
      " 32  CPC score 24 h before cardiac arrest_2               796 non-null    int64  \n",
      " 33  CPC score 24 h before cardiac arrest_3               796 non-null    int64  \n",
      " 34  Year of Arrest_2005                                  796 non-null    int64  \n",
      " 35  Year of Arrest_2006                                  796 non-null    int64  \n",
      " 36  Year of Arrest_2007                                  796 non-null    int64  \n",
      " 37  Year of Arrest_2008                                  796 non-null    int64  \n",
      " 38  Year of Arrest_2009                                  796 non-null    int64  \n",
      " 39  Year of Arrest_2010                                  796 non-null    int64  \n",
      " 40  Year of Arrest_2011                                  796 non-null    int64  \n",
      " 41  Year of Arrest_2012                                  796 non-null    int64  \n",
      " 42  Year of Arrest_2013                                  796 non-null    int64  \n",
      " 43  Year of Arrest_2014                                  796 non-null    int64  \n",
      " 44  Initial cardiac arrest rhythm_1                      796 non-null    int64  \n",
      " 45  Initial cardiac arrest rhythm_2                      796 non-null    int64  \n",
      " 46  Arrest location_1                                    796 non-null    int64  \n",
      " 47  Arrest location_2                                    796 non-null    int64  \n",
      "dtypes: float64(1), int64(47)\n",
      "memory usage: 298.6 KB\n"
     ]
    }
   ],
   "source": [
    "df.info()"
   ]
  },
  {
   "cell_type": "markdown",
   "metadata": {},
   "source": [
    "#### 2-1-1. ラベルデータの分離"
   ]
  },
  {
   "cell_type": "markdown",
   "metadata": {},
   "source": [
    "予測したいターゲットはPrognosisのカラムの情報です。Prognosisのカラム以外の情報を使ってPrognosisを予測するというモデルを作っていきます。そのために、まずデータフレームを「Prognosis以外のカラム」と「Prognosisのカラム」に分ける必要があります。"
   ]
  },
  {
   "cell_type": "markdown",
   "metadata": {},
   "source": [
    "Prognosis以外の全てのカラムを持ったデータフレームは下記のように作成できます。"
   ]
  },
  {
   "cell_type": "code",
   "execution_count": 24,
   "metadata": {},
   "outputs": [
    {
     "data": {
      "text/html": [
       "<div>\n",
       "<style scoped>\n",
       "    .dataframe tbody tr th:only-of-type {\n",
       "        vertical-align: middle;\n",
       "    }\n",
       "\n",
       "    .dataframe tbody tr th {\n",
       "        vertical-align: top;\n",
       "    }\n",
       "\n",
       "    .dataframe thead th {\n",
       "        text-align: right;\n",
       "    }\n",
       "</style>\n",
       "<table border=\"1\" class=\"dataframe\">\n",
       "  <thead>\n",
       "    <tr style=\"text-align: right;\">\n",
       "      <th></th>\n",
       "      <th>Age</th>\n",
       "      <th>Male</th>\n",
       "      <th>Respiratory insufficiency</th>\n",
       "      <th>Renal insufficiency</th>\n",
       "      <th>Arrhythmia</th>\n",
       "      <th>Diabetes mellitus</th>\n",
       "      <th>Hypotension</th>\n",
       "      <th>Heart failure, prior admission</th>\n",
       "      <th>Heart failure, this admission</th>\n",
       "      <th>Myocardial infarction, prior admission</th>\n",
       "      <th>...</th>\n",
       "      <th>Year of Arrest_2009</th>\n",
       "      <th>Year of Arrest_2010</th>\n",
       "      <th>Year of Arrest_2011</th>\n",
       "      <th>Year of Arrest_2012</th>\n",
       "      <th>Year of Arrest_2013</th>\n",
       "      <th>Year of Arrest_2014</th>\n",
       "      <th>Initial cardiac arrest rhythm_1</th>\n",
       "      <th>Initial cardiac arrest rhythm_2</th>\n",
       "      <th>Arrest location_1</th>\n",
       "      <th>Arrest location_2</th>\n",
       "    </tr>\n",
       "  </thead>\n",
       "  <tbody>\n",
       "    <tr>\n",
       "      <th>0</th>\n",
       "      <td>65</td>\n",
       "      <td>0</td>\n",
       "      <td>1</td>\n",
       "      <td>0</td>\n",
       "      <td>0</td>\n",
       "      <td>1</td>\n",
       "      <td>0</td>\n",
       "      <td>0</td>\n",
       "      <td>0</td>\n",
       "      <td>0</td>\n",
       "      <td>...</td>\n",
       "      <td>0</td>\n",
       "      <td>0</td>\n",
       "      <td>1</td>\n",
       "      <td>0</td>\n",
       "      <td>0</td>\n",
       "      <td>0</td>\n",
       "      <td>0</td>\n",
       "      <td>1</td>\n",
       "      <td>1</td>\n",
       "      <td>0</td>\n",
       "    </tr>\n",
       "    <tr>\n",
       "      <th>1</th>\n",
       "      <td>59</td>\n",
       "      <td>1</td>\n",
       "      <td>1</td>\n",
       "      <td>1</td>\n",
       "      <td>0</td>\n",
       "      <td>0</td>\n",
       "      <td>0</td>\n",
       "      <td>1</td>\n",
       "      <td>1</td>\n",
       "      <td>0</td>\n",
       "      <td>...</td>\n",
       "      <td>0</td>\n",
       "      <td>0</td>\n",
       "      <td>1</td>\n",
       "      <td>0</td>\n",
       "      <td>0</td>\n",
       "      <td>0</td>\n",
       "      <td>0</td>\n",
       "      <td>1</td>\n",
       "      <td>1</td>\n",
       "      <td>0</td>\n",
       "    </tr>\n",
       "    <tr>\n",
       "      <th>2</th>\n",
       "      <td>85</td>\n",
       "      <td>0</td>\n",
       "      <td>0</td>\n",
       "      <td>0</td>\n",
       "      <td>0</td>\n",
       "      <td>0</td>\n",
       "      <td>0</td>\n",
       "      <td>0</td>\n",
       "      <td>0</td>\n",
       "      <td>0</td>\n",
       "      <td>...</td>\n",
       "      <td>0</td>\n",
       "      <td>0</td>\n",
       "      <td>1</td>\n",
       "      <td>0</td>\n",
       "      <td>0</td>\n",
       "      <td>0</td>\n",
       "      <td>0</td>\n",
       "      <td>0</td>\n",
       "      <td>1</td>\n",
       "      <td>0</td>\n",
       "    </tr>\n",
       "    <tr>\n",
       "      <th>3</th>\n",
       "      <td>90</td>\n",
       "      <td>1</td>\n",
       "      <td>1</td>\n",
       "      <td>1</td>\n",
       "      <td>0</td>\n",
       "      <td>0</td>\n",
       "      <td>0</td>\n",
       "      <td>0</td>\n",
       "      <td>0</td>\n",
       "      <td>1</td>\n",
       "      <td>...</td>\n",
       "      <td>0</td>\n",
       "      <td>0</td>\n",
       "      <td>1</td>\n",
       "      <td>0</td>\n",
       "      <td>0</td>\n",
       "      <td>0</td>\n",
       "      <td>0</td>\n",
       "      <td>0</td>\n",
       "      <td>1</td>\n",
       "      <td>0</td>\n",
       "    </tr>\n",
       "    <tr>\n",
       "      <th>4</th>\n",
       "      <td>97</td>\n",
       "      <td>0</td>\n",
       "      <td>1</td>\n",
       "      <td>0</td>\n",
       "      <td>0</td>\n",
       "      <td>1</td>\n",
       "      <td>0</td>\n",
       "      <td>0</td>\n",
       "      <td>1</td>\n",
       "      <td>0</td>\n",
       "      <td>...</td>\n",
       "      <td>0</td>\n",
       "      <td>0</td>\n",
       "      <td>1</td>\n",
       "      <td>0</td>\n",
       "      <td>0</td>\n",
       "      <td>0</td>\n",
       "      <td>0</td>\n",
       "      <td>1</td>\n",
       "      <td>0</td>\n",
       "      <td>0</td>\n",
       "    </tr>\n",
       "    <tr>\n",
       "      <th>...</th>\n",
       "      <td>...</td>\n",
       "      <td>...</td>\n",
       "      <td>...</td>\n",
       "      <td>...</td>\n",
       "      <td>...</td>\n",
       "      <td>...</td>\n",
       "      <td>...</td>\n",
       "      <td>...</td>\n",
       "      <td>...</td>\n",
       "      <td>...</td>\n",
       "      <td>...</td>\n",
       "      <td>...</td>\n",
       "      <td>...</td>\n",
       "      <td>...</td>\n",
       "      <td>...</td>\n",
       "      <td>...</td>\n",
       "      <td>...</td>\n",
       "      <td>...</td>\n",
       "      <td>...</td>\n",
       "      <td>...</td>\n",
       "      <td>...</td>\n",
       "    </tr>\n",
       "    <tr>\n",
       "      <th>791</th>\n",
       "      <td>76</td>\n",
       "      <td>1</td>\n",
       "      <td>0</td>\n",
       "      <td>1</td>\n",
       "      <td>0</td>\n",
       "      <td>1</td>\n",
       "      <td>0</td>\n",
       "      <td>0</td>\n",
       "      <td>0</td>\n",
       "      <td>0</td>\n",
       "      <td>...</td>\n",
       "      <td>0</td>\n",
       "      <td>0</td>\n",
       "      <td>0</td>\n",
       "      <td>0</td>\n",
       "      <td>0</td>\n",
       "      <td>0</td>\n",
       "      <td>0</td>\n",
       "      <td>0</td>\n",
       "      <td>0</td>\n",
       "      <td>0</td>\n",
       "    </tr>\n",
       "    <tr>\n",
       "      <th>792</th>\n",
       "      <td>87</td>\n",
       "      <td>0</td>\n",
       "      <td>1</td>\n",
       "      <td>0</td>\n",
       "      <td>1</td>\n",
       "      <td>1</td>\n",
       "      <td>0</td>\n",
       "      <td>0</td>\n",
       "      <td>1</td>\n",
       "      <td>0</td>\n",
       "      <td>...</td>\n",
       "      <td>0</td>\n",
       "      <td>0</td>\n",
       "      <td>0</td>\n",
       "      <td>0</td>\n",
       "      <td>0</td>\n",
       "      <td>0</td>\n",
       "      <td>1</td>\n",
       "      <td>0</td>\n",
       "      <td>0</td>\n",
       "      <td>1</td>\n",
       "    </tr>\n",
       "    <tr>\n",
       "      <th>793</th>\n",
       "      <td>52</td>\n",
       "      <td>0</td>\n",
       "      <td>0</td>\n",
       "      <td>0</td>\n",
       "      <td>0</td>\n",
       "      <td>0</td>\n",
       "      <td>0</td>\n",
       "      <td>0</td>\n",
       "      <td>0</td>\n",
       "      <td>0</td>\n",
       "      <td>...</td>\n",
       "      <td>0</td>\n",
       "      <td>0</td>\n",
       "      <td>0</td>\n",
       "      <td>0</td>\n",
       "      <td>0</td>\n",
       "      <td>0</td>\n",
       "      <td>1</td>\n",
       "      <td>0</td>\n",
       "      <td>0</td>\n",
       "      <td>0</td>\n",
       "    </tr>\n",
       "    <tr>\n",
       "      <th>794</th>\n",
       "      <td>57</td>\n",
       "      <td>0</td>\n",
       "      <td>1</td>\n",
       "      <td>0</td>\n",
       "      <td>0</td>\n",
       "      <td>0</td>\n",
       "      <td>0</td>\n",
       "      <td>1</td>\n",
       "      <td>1</td>\n",
       "      <td>0</td>\n",
       "      <td>...</td>\n",
       "      <td>0</td>\n",
       "      <td>0</td>\n",
       "      <td>0</td>\n",
       "      <td>0</td>\n",
       "      <td>0</td>\n",
       "      <td>0</td>\n",
       "      <td>0</td>\n",
       "      <td>0</td>\n",
       "      <td>0</td>\n",
       "      <td>0</td>\n",
       "    </tr>\n",
       "    <tr>\n",
       "      <th>795</th>\n",
       "      <td>76</td>\n",
       "      <td>1</td>\n",
       "      <td>1</td>\n",
       "      <td>1</td>\n",
       "      <td>0</td>\n",
       "      <td>1</td>\n",
       "      <td>0</td>\n",
       "      <td>1</td>\n",
       "      <td>1</td>\n",
       "      <td>0</td>\n",
       "      <td>...</td>\n",
       "      <td>0</td>\n",
       "      <td>0</td>\n",
       "      <td>0</td>\n",
       "      <td>0</td>\n",
       "      <td>0</td>\n",
       "      <td>1</td>\n",
       "      <td>0</td>\n",
       "      <td>1</td>\n",
       "      <td>0</td>\n",
       "      <td>0</td>\n",
       "    </tr>\n",
       "  </tbody>\n",
       "</table>\n",
       "<p>796 rows × 47 columns</p>\n",
       "</div>"
      ],
      "text/plain": [
       "     Age  Male  Respiratory insufficiency  Renal insufficiency  Arrhythmia  \\\n",
       "0     65     0                          1                    0           0   \n",
       "1     59     1                          1                    1           0   \n",
       "2     85     0                          0                    0           0   \n",
       "3     90     1                          1                    1           0   \n",
       "4     97     0                          1                    0           0   \n",
       "..   ...   ...                        ...                  ...         ...   \n",
       "791   76     1                          0                    1           0   \n",
       "792   87     0                          1                    0           1   \n",
       "793   52     0                          0                    0           0   \n",
       "794   57     0                          1                    0           0   \n",
       "795   76     1                          1                    1           0   \n",
       "\n",
       "     Diabetes mellitus  Hypotension  Heart failure, prior admission  \\\n",
       "0                    1            0                               0   \n",
       "1                    0            0                               1   \n",
       "2                    0            0                               0   \n",
       "3                    0            0                               0   \n",
       "4                    1            0                               0   \n",
       "..                 ...          ...                             ...   \n",
       "791                  1            0                               0   \n",
       "792                  1            0                               0   \n",
       "793                  0            0                               0   \n",
       "794                  0            0                               1   \n",
       "795                  1            0                               1   \n",
       "\n",
       "     Heart failure, this admission  Myocardial infarction, prior admission  \\\n",
       "0                                0                                       0   \n",
       "1                                1                                       0   \n",
       "2                                0                                       0   \n",
       "3                                0                                       1   \n",
       "4                                1                                       0   \n",
       "..                             ...                                     ...   \n",
       "791                              0                                       0   \n",
       "792                              1                                       0   \n",
       "793                              0                                       0   \n",
       "794                              1                                       0   \n",
       "795                              1                                       0   \n",
       "\n",
       "     ...  Year of Arrest_2009  Year of Arrest_2010  Year of Arrest_2011  \\\n",
       "0    ...                    0                    0                    1   \n",
       "1    ...                    0                    0                    1   \n",
       "2    ...                    0                    0                    1   \n",
       "3    ...                    0                    0                    1   \n",
       "4    ...                    0                    0                    1   \n",
       "..   ...                  ...                  ...                  ...   \n",
       "791  ...                    0                    0                    0   \n",
       "792  ...                    0                    0                    0   \n",
       "793  ...                    0                    0                    0   \n",
       "794  ...                    0                    0                    0   \n",
       "795  ...                    0                    0                    0   \n",
       "\n",
       "     Year of Arrest_2012  Year of Arrest_2013  Year of Arrest_2014  \\\n",
       "0                      0                    0                    0   \n",
       "1                      0                    0                    0   \n",
       "2                      0                    0                    0   \n",
       "3                      0                    0                    0   \n",
       "4                      0                    0                    0   \n",
       "..                   ...                  ...                  ...   \n",
       "791                    0                    0                    0   \n",
       "792                    0                    0                    0   \n",
       "793                    0                    0                    0   \n",
       "794                    0                    0                    0   \n",
       "795                    0                    0                    1   \n",
       "\n",
       "     Initial cardiac arrest rhythm_1  Initial cardiac arrest rhythm_2  \\\n",
       "0                                  0                                1   \n",
       "1                                  0                                1   \n",
       "2                                  0                                0   \n",
       "3                                  0                                0   \n",
       "4                                  0                                1   \n",
       "..                               ...                              ...   \n",
       "791                                0                                0   \n",
       "792                                1                                0   \n",
       "793                                1                                0   \n",
       "794                                0                                0   \n",
       "795                                0                                1   \n",
       "\n",
       "     Arrest location_1  Arrest location_2  \n",
       "0                    1                  0  \n",
       "1                    1                  0  \n",
       "2                    1                  0  \n",
       "3                    1                  0  \n",
       "4                    0                  0  \n",
       "..                 ...                ...  \n",
       "791                  0                  0  \n",
       "792                  0                  1  \n",
       "793                  0                  0  \n",
       "794                  0                  0  \n",
       "795                  0                  0  \n",
       "\n",
       "[796 rows x 47 columns]"
      ]
     },
     "execution_count": 24,
     "metadata": {},
     "output_type": "execute_result"
    }
   ],
   "source": [
    "df.drop('Prognosis', axis=1)"
   ]
  },
  {
   "cell_type": "markdown",
   "metadata": {},
   "source": [
    "**練習問題2**：Prognosis以外の全てのカラムを持ったデータフレーム`df.drop('Prognosis', axis=1)`を`X`という変数に代入してください。"
   ]
  },
  {
   "cell_type": "code",
   "execution_count": 25,
   "metadata": {},
   "outputs": [],
   "source": [
    "X = df.drop('Prognosis', axis=1)"
   ]
  },
  {
   "cell_type": "markdown",
   "metadata": {},
   "source": [
    "`X.info()`でPrognosisのカラムがなくなっているか、確認しておきます。"
   ]
  },
  {
   "cell_type": "code",
   "execution_count": 26,
   "metadata": {},
   "outputs": [
    {
     "name": "stdout",
     "output_type": "stream",
     "text": [
      "<class 'pandas.core.frame.DataFrame'>\n",
      "RangeIndex: 796 entries, 0 to 795\n",
      "Data columns (total 47 columns):\n",
      " #   Column                                               Non-Null Count  Dtype  \n",
      "---  ------                                               --------------  -----  \n",
      " 0   Age                                                  796 non-null    int64  \n",
      " 1   Male                                                 796 non-null    int64  \n",
      " 2   Respiratory insufficiency                            796 non-null    int64  \n",
      " 3   Renal insufficiency                                  796 non-null    int64  \n",
      " 4   Arrhythmia                                           796 non-null    int64  \n",
      " 5   Diabetes mellitus                                    796 non-null    int64  \n",
      " 6   Hypotension                                          796 non-null    int64  \n",
      " 7   Heart failure, prior admission                       796 non-null    int64  \n",
      " 8   Heart failure, this admission                        796 non-null    int64  \n",
      " 9   Myocardial infarction, prior admission               796 non-null    int64  \n",
      " 10  Myocardial infarction, this admission                796 non-null    int64  \n",
      " 11  Metabolic or electrolyte abnormality                 796 non-null    int64  \n",
      " 12  Sepsis                                               796 non-null    int64  \n",
      " 13  Pneumonia                                            796 non-null    int64  \n",
      " 14  Metastatic or hematologic malignant disease          796 non-null    int64  \n",
      " 15  Baseline depression in CNSc function                 796 non-null    int64  \n",
      " 16  Hepatic insufficiency                                796 non-null    int64  \n",
      " 17  Acute stroke                                         796 non-null    int64  \n",
      " 18  Cardiopulmonary resuscitation during or before 2010  796 non-null    int64  \n",
      " 19  CPR Duration                                         796 non-null    float64\n",
      " 20  Time to defibrillation                               796 non-null    int64  \n",
      " 21  Arrest at night                                      796 non-null    int64  \n",
      " 22  Arrest on weekend                                    796 non-null    int64  \n",
      " 23  Mechanical ventilation                               796 non-null    int64  \n",
      " 24  Intravenous vasopressors                             796 non-null    int64  \n",
      " 25  Intravenous antiarrhythmics                          796 non-null    int64  \n",
      " 26  Pulmonary artery catheter                            796 non-null    int64  \n",
      " 27  Hemodialysis                                         796 non-null    int64  \n",
      " 28  Intra-aortic balloon pumping                         796 non-null    int64  \n",
      " 29  CASPRI score                                         796 non-null    int64  \n",
      " 30  CPC score 24 h before cardiac arrest_1               796 non-null    int64  \n",
      " 31  CPC score 24 h before cardiac arrest_2               796 non-null    int64  \n",
      " 32  CPC score 24 h before cardiac arrest_3               796 non-null    int64  \n",
      " 33  Year of Arrest_2005                                  796 non-null    int64  \n",
      " 34  Year of Arrest_2006                                  796 non-null    int64  \n",
      " 35  Year of Arrest_2007                                  796 non-null    int64  \n",
      " 36  Year of Arrest_2008                                  796 non-null    int64  \n",
      " 37  Year of Arrest_2009                                  796 non-null    int64  \n",
      " 38  Year of Arrest_2010                                  796 non-null    int64  \n",
      " 39  Year of Arrest_2011                                  796 non-null    int64  \n",
      " 40  Year of Arrest_2012                                  796 non-null    int64  \n",
      " 41  Year of Arrest_2013                                  796 non-null    int64  \n",
      " 42  Year of Arrest_2014                                  796 non-null    int64  \n",
      " 43  Initial cardiac arrest rhythm_1                      796 non-null    int64  \n",
      " 44  Initial cardiac arrest rhythm_2                      796 non-null    int64  \n",
      " 45  Arrest location_1                                    796 non-null    int64  \n",
      " 46  Arrest location_2                                    796 non-null    int64  \n",
      "dtypes: float64(1), int64(46)\n",
      "memory usage: 292.4 KB\n"
     ]
    }
   ],
   "source": [
    "X.info()"
   ]
  },
  {
   "cell_type": "markdown",
   "metadata": {},
   "source": [
    "次に「Prognosisのカラム」だけを抜き出します。"
   ]
  },
  {
   "cell_type": "code",
   "execution_count": 27,
   "metadata": {},
   "outputs": [
    {
     "data": {
      "text/plain": [
       "0      0\n",
       "1      0\n",
       "2      0\n",
       "3      0\n",
       "4      0\n",
       "      ..\n",
       "791    0\n",
       "792    1\n",
       "793    0\n",
       "794    0\n",
       "795    0\n",
       "Name: Prognosis, Length: 796, dtype: int64"
      ]
     },
     "execution_count": 27,
     "metadata": {},
     "output_type": "execute_result"
    }
   ],
   "source": [
    "df['Prognosis']"
   ]
  },
  {
   "cell_type": "markdown",
   "metadata": {},
   "source": [
    "**練習問題3**：Prognosisのカラム`df['Prognosis']`を`y`という変数に代入してください。"
   ]
  },
  {
   "cell_type": "code",
   "execution_count": 28,
   "metadata": {},
   "outputs": [],
   "source": [
    "y = df['Prognosis']"
   ]
  },
  {
   "cell_type": "markdown",
   "metadata": {},
   "source": [
    "作成された`y`の中身を簡単に確認しておきます。"
   ]
  },
  {
   "cell_type": "code",
   "execution_count": 29,
   "metadata": {},
   "outputs": [
    {
     "data": {
      "text/plain": [
       "0      0\n",
       "1      0\n",
       "2      0\n",
       "3      0\n",
       "4      0\n",
       "      ..\n",
       "791    0\n",
       "792    1\n",
       "793    0\n",
       "794    0\n",
       "795    0\n",
       "Name: Prognosis, Length: 796, dtype: int64"
      ]
     },
     "execution_count": 29,
     "metadata": {},
     "output_type": "execute_result"
    }
   ],
   "source": [
    "y"
   ]
  },
  {
   "cell_type": "markdown",
   "metadata": {},
   "source": [
    "#### 2-1-2. モデル作成用データとチューニングデータの作成"
   ]
  },
  {
   "cell_type": "markdown",
   "metadata": {},
   "source": [
    "機械学習(教師あり学習)では、データを基本的に3つ準備する必要があります。学習用データ、チューニング用データ、テスト用データです。テスト用データは外部のデータの方が望ましいですが、手元のデータの一部を切り分けて作ることもあります。  \n",
    "モデルの作成の流れは、学習用データを使ってモデルを作成し、チューニング用データでその性能を評価し、モデルの調整をして再度チューニング用データで性能を評価して・・・という流れになります。"
   ]
  },
  {
   "cell_type": "markdown",
   "metadata": {},
   "source": [
    "<img src=\"data_split.png\" alt=\"data_split\" style=\"width: 80%;\"/>"
   ]
  },
  {
   "cell_type": "markdown",
   "metadata": {},
   "source": [
    "一般的にモデル作成用データの中でチューニング用データと学習用データ(チューニング用データ以外の残りのデータ)の組み合わせを入れ替えてその平均の性能でパラメータやモデルの条件を調整していきます。これをクロスバリデーションと呼びますが、今回は学習用データとチューニングデータの1つの組み合わせを作って、試しにモデルを作って評価してみるということにします。"
   ]
  },
  {
   "cell_type": "markdown",
   "metadata": {},
   "source": [
    "Anacondaでは、機械学習に必要な各種モジュールを持ったscikit-learnというライブラリが既にインストールされています。ここから必要な関数を事前にimportしておきます。"
   ]
  },
  {
   "cell_type": "code",
   "execution_count": 30,
   "metadata": {},
   "outputs": [],
   "source": [
    "from sklearn.model_selection import train_test_split\n",
    "from sklearn.linear_model import LogisticRegression\n",
    "from sklearn.metrics import accuracy_score, precision_score, recall_score, f1_score, plot_confusion_matrix, plot_roc_curve"
   ]
  },
  {
   "cell_type": "markdown",
   "metadata": {},
   "source": [
    "scikit-learnの`train_test_split`関数はデータを学習用とチューニング用に分割するための関数です。これを使ってデータを学習用とチューニング用とテスト用に分割します。"
   ]
  },
  {
   "cell_type": "markdown",
   "metadata": {},
   "source": [
    "scikit-learnの`train_test_split`関数はデータをモデル作成用とテスト用に分割する際、test_sizeのオプションで、テスト用データの割合を指定することができます。ここではモデル作成用に元のデータの80%、テスト用に20%を使うことにします。random_stateで分割時のランダムシートを固定化しておきます。まず、下記を実行してデータを分割します。"
   ]
  },
  {
   "cell_type": "code",
   "execution_count": 31,
   "metadata": {},
   "outputs": [],
   "source": [
    "X_model, X_test, y_model, y_test = train_test_split(X, y, test_size=0.2, random_state=0)"
   ]
  },
  {
   "cell_type": "markdown",
   "metadata": {},
   "source": [
    "さらに今作ったモデル作成用の`X_train`と`y_train`を学習用データとチューミング用データに分けます。モデル作成用のデータの80%を学習用に、20%をチューニング用に使うことにします。"
   ]
  },
  {
   "cell_type": "markdown",
   "metadata": {},
   "source": [
    "同じくscikit-learnの`train_test_split`関数を使って、モデル作成用のデータ(`X_train`と`y_train`)の80%を学習用、20%をチューニング用として分割します。random_state=0で分割時のランダムシートを固定化しておきます。"
   ]
  },
  {
   "cell_type": "code",
   "execution_count": 32,
   "metadata": {},
   "outputs": [],
   "source": [
    "X_train, X_tuning, y_train, y_tuning = train_test_split(X_model, y_model, test_size=0.2, random_state=0)"
   ]
  },
  {
   "cell_type": "markdown",
   "metadata": {},
   "source": [
    "できたデータの内訳は以下のようになります。"
   ]
  },
  {
   "cell_type": "markdown",
   "metadata": {},
   "source": [
    "`X_train`: 学習用症例の予測に使うデータ  \n",
    "`y_train`: 学習用症例の予測ターゲット(Prognosis)のデータ  \n",
    "`X_tuning`: モデルのチューニング時に予測に使うデータ  \n",
    "`y_tuning`: モデルのチューニング時の予測ターゲット(Prognosis)のデータ  \n",
    "`X_test`: テスト時に予測に使うデータ  \n",
    "`y_tuning`: テスト時の予測ターゲット(Prognosis)のデータ"
   ]
  },
  {
   "cell_type": "markdown",
   "metadata": {},
   "source": [
    "`.shape`を用いて、下のデータと今分割してできたデータの行数とカラム数を確認することができます。"
   ]
  },
  {
   "cell_type": "code",
   "execution_count": 33,
   "metadata": {},
   "outputs": [
    {
     "name": "stdout",
     "output_type": "stream",
     "text": [
      "(636, 47)\n",
      "(636,)\n",
      "(508, 47)\n",
      "(508,)\n",
      "(128, 47)\n",
      "(128,)\n"
     ]
    }
   ],
   "source": [
    "print(X_model.shape)\n",
    "print(y_model.shape)\n",
    "print(X_train.shape)\n",
    "print(y_train.shape)\n",
    "print(X_tuning.shape)\n",
    "print(y_tuning.shape)"
   ]
  },
  {
   "cell_type": "markdown",
   "metadata": {},
   "source": [
    "**練習問題4**：`X_test`、`y_test`についても`.shape`を使ってデータの行数とカラム数を確認してください。"
   ]
  },
  {
   "cell_type": "code",
   "execution_count": 34,
   "metadata": {},
   "outputs": [
    {
     "name": "stdout",
     "output_type": "stream",
     "text": [
      "(160, 47)\n",
      "(160,)\n"
     ]
    }
   ],
   "source": [
    "print(X_test.shape)\n",
    "print(y_test.shape)"
   ]
  },
  {
   "cell_type": "markdown",
   "metadata": {},
   "source": [
    "最終的にデータ分割後、データは下図のようになっていることになります。"
   ]
  },
  {
   "cell_type": "markdown",
   "metadata": {},
   "source": [
    "<img src=\"data_split_2.png\" alt=\"data_split_2\" style=\"width: 80%;\"/>"
   ]
  },
  {
   "cell_type": "markdown",
   "metadata": {},
   "source": [
    "## 3. 機械学習モデルの作成"
   ]
  },
  {
   "cell_type": "markdown",
   "metadata": {},
   "source": [
    "ここまででデータの事前準備が終わったので、実際に学習データを使って予測モデルを作り、テストデータに対する性能を評価してみます。"
   ]
  },
  {
   "cell_type": "markdown",
   "metadata": {},
   "source": [
    "logistic regressionで予測モデルを作成してみます。scikit-learnからインポートした`LogisticRegression()`関数で分類器を定義して`lr`という変数に代入しておきます。LogisticRegression関数は様々なオプションが指定できますが(参考: https://scikit-learn.org/stable/modules/generated/sklearn.linear_model.LogisticRegression.html )、ここではオプションに`solver='liblinear'`を設定することにします。"
   ]
  },
  {
   "cell_type": "code",
   "execution_count": 35,
   "metadata": {},
   "outputs": [],
   "source": [
    "lr = LogisticRegression(solver='liblinear')"
   ]
  },
  {
   "cell_type": "markdown",
   "metadata": {},
   "source": [
    "設定した分類器を使って実際に学習データを使って学習をさせます。学習の際には`fit`メソッドを使います。`fit`メソッドは、\n",
    "```\n",
    "作成した分類器.fit(学習用症例の予測に使うデータ, 学習用症例の予測ターゲットのデータ)\n",
    "```\n",
    "のように使います。"
   ]
  },
  {
   "cell_type": "code",
   "execution_count": 36,
   "metadata": {},
   "outputs": [
    {
     "data": {
      "text/plain": [
       "LogisticRegression(solver='liblinear')"
      ]
     },
     "execution_count": 36,
     "metadata": {},
     "output_type": "execute_result"
    }
   ],
   "source": [
    "lr.fit(X_train, y_train)"
   ]
  },
  {
   "cell_type": "markdown",
   "metadata": {},
   "source": [
    "学習を終えた分類器を使って、テストデータで予測をしてみます。予測の際には`predict`メソッドを使います。`predict`メソッドは、\n",
    "```\n",
    "学習を終えた分類器.predict(予測に使うデータ)\n",
    "```\n",
    "のように書いて使います。"
   ]
  },
  {
   "cell_type": "code",
   "execution_count": 37,
   "metadata": {},
   "outputs": [
    {
     "data": {
      "text/plain": [
       "array([0, 0, 0, 1, 0, 0, 0, 0, 0, 0, 0, 0, 0, 0, 0, 0, 0, 0, 1, 0, 0, 0,\n",
       "       0, 0, 0, 0, 0, 0, 0, 0, 0, 0, 0, 0, 0, 0, 0, 0, 0, 0, 0, 0, 0, 0,\n",
       "       0, 0, 0, 0, 0, 0, 1, 1, 1, 0, 0, 0, 0, 0, 0, 0, 0, 0, 0, 0, 0, 0,\n",
       "       0, 0, 0, 0, 0, 0, 0, 0, 0, 0, 0, 0, 0, 0, 0, 0, 0, 0, 1, 0, 0, 0,\n",
       "       0, 0, 0, 0, 0, 0, 0, 0, 0, 0, 0, 0, 1, 0, 0, 0, 0, 0, 0, 0, 0, 0,\n",
       "       0, 0, 0, 0, 0, 0, 0, 0, 0, 0, 0, 0, 0, 0, 0, 0, 0, 0])"
      ]
     },
     "execution_count": 37,
     "metadata": {},
     "output_type": "execute_result"
    }
   ],
   "source": [
    "lr.predict(X_tuning)"
   ]
  },
  {
   "cell_type": "markdown",
   "metadata": {},
   "source": [
    "**練習問題5**：上で作成したテストデータに対する予測結果`lr.predict(X_tuning)`を、のちに利用するために`y_pred_lr`という変数に代入してください。"
   ]
  },
  {
   "cell_type": "code",
   "execution_count": 38,
   "metadata": {},
   "outputs": [],
   "source": [
    "y_pred_lr = lr.predict(X_tuning)"
   ]
  },
  {
   "cell_type": "markdown",
   "metadata": {},
   "source": [
    "事前にインポートしたscikit-learnの`accuracy_score`関数、`precision_score`関数、`recall_score`関数、`f1_score`関数を使って、それぞれ正解率、適合率、再現率、F値を確認してみます。これらのscore計算の関数は、\n",
    "```\n",
    "スコア計算の関数(予測ターゲットのデータ, 予測結果)\n",
    "```\n",
    "のように書くよう設計されています。下のセルを実行してaccuracy、precision、recall、F1 scoreを算出してください。"
   ]
  },
  {
   "cell_type": "code",
   "execution_count": 39,
   "metadata": {},
   "outputs": [
    {
     "name": "stdout",
     "output_type": "stream",
     "text": [
      "0.8984375\n",
      "0.5714285714285714\n",
      "0.2857142857142857\n",
      "0.38095238095238093\n"
     ]
    }
   ],
   "source": [
    "print(accuracy_score(y_tuning, y_pred_lr))    #accuracy: 正解率\n",
    "print(precision_score(y_tuning, y_pred_lr))   #precision: 適合率（陽性的中率)\n",
    "print(recall_score(y_tuning, y_pred_lr))      #recall: 再現率（感度）\n",
    "print(f1_score(y_tuning, y_pred_lr))          #F1 score: 再現率と適合率の調和平均 2*Precision*Recall/(Precision + Recall)"
   ]
  },
  {
   "cell_type": "markdown",
   "metadata": {},
   "source": [
    "事前にインポートしたscikit-learnの`plot_confusion_matrix`関数を使って混同行列を描画してみます。`plot_confusion_matrix`関数は\n",
    "```\n",
    "plot_confusion_matrix(学習後の分類器、予測に使うデータ、予測ターゲットのデータ)\n",
    "```\n",
    "のように書いて使います。ここではオプションでさらに`values_format = 'd'`を指定して、数字が指数表示されないように設定します。ここでは具体的には以下のようになります。\n",
    "```\n",
    "plot_confusion_matrix(lr, X_tuning, y_tuning, values_format = 'd')\n",
    "```\n",
    "上記を下のセルに入れて実行し、混同行列をプロットしてみます。"
   ]
  },
  {
   "cell_type": "code",
   "execution_count": 41,
   "metadata": {},
   "outputs": [
    {
     "data": {
      "text/plain": [
       "<sklearn.metrics._plot.confusion_matrix.ConfusionMatrixDisplay at 0x7fa6a8725b20>"
      ]
     },
     "execution_count": 41,
     "metadata": {},
     "output_type": "execute_result"
    },
    {
     "data": {
      "image/png": "[encoded data removed]",
      "text/plain": [
       "<Figure size 432x288 with 2 Axes>"
      ]
     },
     "metadata": {
      "needs_background": "light"
     },
     "output_type": "display_data"
    }
   ],
   "source": [
    "plot_confusion_matrix(lr, X_tuning, y_tuning, values_format = 'd')"
   ]
  },
  {
   "cell_type": "markdown",
   "metadata": {},
   "source": [
    "事前にインポートしたscikit-learnの`plot_roc_curve`関数を使ってROC曲線を描画してみます。`plot_roc_curve`関数は`plot_confusion_matrix`関数と同じように\n",
    "```\n",
    "plot_roc_curve(学習後の分類器、予測に使うデータ、予測ターゲットのデータ)\n",
    "```\n",
    "のように書いて使います。"
   ]
  },
  {
   "cell_type": "code",
   "execution_count": 42,
   "metadata": {},
   "outputs": [
    {
     "data": {
      "text/plain": [
       "<sklearn.metrics._plot.roc_curve.RocCurveDisplay at 0x7fa698175790>"
      ]
     },
     "execution_count": 42,
     "metadata": {},
     "output_type": "execute_result"
    },
    {
     "data": {
      "image/png": "[encoded data removed]",
      "text/plain": [
       "<Figure size 432x288 with 1 Axes>"
      ]
     },
     "metadata": {
      "needs_background": "light"
     },
     "output_type": "display_data"
    }
   ],
   "source": [
    "plot_roc_curve(lr, X_tuning, y_tuning)"
   ]
  },
  {
   "cell_type": "markdown",
   "metadata": {},
   "source": [
    "## 4. チューニングデータを用いたモデルの改善"
   ]
  },
  {
   "cell_type": "markdown",
   "metadata": {},
   "source": [
    "ここまでの結果を見てみると、どうも元々のデータが不均衡(Prognosis=1が少なく、Prognosis=0が多い)であるために、分類器が全てPrognosis=0と予測する方向に偏って学習してしまっているように見えます。"
   ]
  },
  {
   "cell_type": "markdown",
   "metadata": {},
   "source": [
    "不均衡データの対処はweightingやサンプリングなどの方法があります。まずここではモデルの改善のためにweightingという手法を試してみることにします。"
   ]
  },
  {
   "cell_type": "markdown",
   "metadata": {},
   "source": [
    "**練習問題6**：学習器を定義するときにクラスごとのサンプル数の重みを自動で付けてくれる`class_weight='balanced'`の設定を追加してみます。この設定を追加することで、数が少ないクラス(Prognosis=1)を正解することに重視して学習が進むようになります。具体的には分類器は`LogisticRegression(solver='liblinear', class_weight='balanced')`となります。この分類器を`lr_2`という名前の変数に代入して保存してください。"
   ]
  },
  {
   "cell_type": "code",
   "execution_count": 43,
   "metadata": {},
   "outputs": [],
   "source": [
    "lr_2 = LogisticRegression(solver='liblinear', class_weight='balanced')"
   ]
  },
  {
   "cell_type": "markdown",
   "metadata": {},
   "source": [
    "**練習問題7**：作成した分類器`lr_2`に`.fit`メソッドを使って、`X_train`、`y_train`を利用してこれまでと同じように学習をさせてください。"
   ]
  },
  {
   "cell_type": "code",
   "execution_count": 44,
   "metadata": {},
   "outputs": [
    {
     "data": {
      "text/plain": [
       "LogisticRegression(class_weight='balanced', solver='liblinear')"
      ]
     },
     "execution_count": 44,
     "metadata": {},
     "output_type": "execute_result"
    }
   ],
   "source": [
    "lr_2.fit(X_train, y_train)"
   ]
  },
  {
   "cell_type": "markdown",
   "metadata": {},
   "source": [
    "学習が終わった分類器`lr_2`に`.predict`メソッドを使ってチューニング用データ`X_tuning`に対して予測をしてみます。"
   ]
  },
  {
   "cell_type": "code",
   "execution_count": 45,
   "metadata": {},
   "outputs": [
    {
     "data": {
      "text/plain": [
       "array([0, 0, 0, 1, 0, 1, 0, 0, 0, 0, 0, 1, 0, 1, 0, 1, 0, 0, 1, 0, 1, 0,\n",
       "       0, 0, 0, 0, 1, 0, 1, 0, 0, 0, 0, 0, 0, 0, 0, 0, 0, 0, 0, 1, 0, 0,\n",
       "       0, 1, 0, 0, 0, 0, 1, 1, 1, 1, 0, 0, 0, 1, 1, 0, 0, 1, 0, 0, 0, 0,\n",
       "       1, 0, 0, 0, 1, 0, 1, 0, 0, 0, 0, 0, 0, 1, 0, 1, 1, 0, 1, 0, 0, 0,\n",
       "       0, 1, 0, 0, 0, 0, 0, 0, 0, 1, 0, 0, 1, 0, 1, 0, 1, 0, 1, 1, 1, 0,\n",
       "       1, 0, 0, 0, 0, 0, 0, 1, 0, 1, 1, 0, 0, 0, 0, 1, 0, 0])"
      ]
     },
     "execution_count": 45,
     "metadata": {},
     "output_type": "execute_result"
    }
   ],
   "source": [
    "lr_2.predict(X_tuning)"
   ]
  },
  {
   "cell_type": "markdown",
   "metadata": {},
   "source": [
    "**練習問題8**：上で作成したテストデータに対する予測結果`lr_2.predict(X_tuning)`を、のちに利用するために`y_pred_lr_2`という変数に代入してください。"
   ]
  },
  {
   "cell_type": "code",
   "execution_count": 46,
   "metadata": {},
   "outputs": [],
   "source": [
    "y_pred_lr_2 = lr_2.predict(X_tuning)"
   ]
  },
  {
   "cell_type": "markdown",
   "metadata": {},
   "source": [
    "それぞれのスコア計算関数を使って、accuracy、precision、recall、F1 scoreを算出してください。下のセルを実行してください。"
   ]
  },
  {
   "cell_type": "code",
   "execution_count": 47,
   "metadata": {},
   "outputs": [
    {
     "name": "stdout",
     "output_type": "stream",
     "text": [
      "0.75\n",
      "0.2631578947368421\n",
      "0.7142857142857143\n",
      "0.3846153846153846\n"
     ]
    }
   ],
   "source": [
    "print(accuracy_score(y_tuning, y_pred_lr_2))    #accuracy: 正解率\n",
    "print(precision_score(y_tuning, y_pred_lr_2))   #precision: 適合率（陽性的中率)\n",
    "print(recall_score(y_tuning, y_pred_lr_2))      #recall: 再現率（感度）\n",
    "print(f1_score(y_tuning, y_pred_lr_2))          #F1 score: 再現率と適合率の調和平均　2*Precision*Recall/(Precision + Recall)"
   ]
  },
  {
   "cell_type": "markdown",
   "metadata": {},
   "source": [
    "**練習問題9**：`plot_confusion_matrix`関数を使って混同行列を出力してください。`plot_confusion_matrix関数`は以下のように使うのでした。\n",
    "```\n",
    "plot_confusion_matrix(学習後の分類器、予測に使うデータ、予測ターゲットのデータ, values_format = 'd')\n",
    "```\n",
    "今回の結果を可視化するために、学習後の分類器に`lr_2`、予測に使うデータに`X_tuning`、予測ターゲットのデータに`y_tuning`を設定して実行してください。"
   ]
  },
  {
   "cell_type": "code",
   "execution_count": 48,
   "metadata": {},
   "outputs": [
    {
     "data": {
      "text/plain": [
       "<sklearn.metrics._plot.confusion_matrix.ConfusionMatrixDisplay at 0x7fa6db6a1310>"
      ]
     },
     "execution_count": 48,
     "metadata": {},
     "output_type": "execute_result"
    },
    {
     "data": {
      "image/png": "[encoded data removed]",
      "text/plain": [
       "<Figure size 432x288 with 2 Axes>"
      ]
     },
     "metadata": {
      "needs_background": "light"
     },
     "output_type": "display_data"
    }
   ],
   "source": [
    "plot_confusion_matrix(lr_2, X_tuning, y_tuning, values_format = 'd')"
   ]
  },
  {
   "cell_type": "markdown",
   "metadata": {},
   "source": [
    "**練習問題10**：`plot_roc_curve`関数を使ってROC曲線を出力してください。`plot_roc_curve`関数は以下のように使うのでした。\n",
    "```\n",
    "plot_roc_curve(学習後の分類器、予測に使うデータ、予測ターゲットのデータ)\n",
    "```\n",
    "学習後の分類器に`lr_2`、予測に使うデータに`X_tuning`、予測ターゲットのデータに`y_tuning`を設定して実行してください。"
   ]
  },
  {
   "cell_type": "code",
   "execution_count": 49,
   "metadata": {},
   "outputs": [
    {
     "data": {
      "text/plain": [
       "<sklearn.metrics._plot.roc_curve.RocCurveDisplay at 0x7fa6db7cbe80>"
      ]
     },
     "execution_count": 49,
     "metadata": {},
     "output_type": "execute_result"
    },
    {
     "data": {
      "image/png": "[encoded data removed]",
      "text/plain": [
       "<Figure size 432x288 with 1 Axes>"
      ]
     },
     "metadata": {
      "needs_background": "light"
     },
     "output_type": "display_data"
    }
   ],
   "source": [
    "plot_roc_curve(lr_2, X_tuning, y_tuning)"
   ]
  },
  {
   "cell_type": "markdown",
   "metadata": {},
   "source": [
    "# 実践問題"
   ]
  },
  {
   "cell_type": "markdown",
   "metadata": {},
   "source": [
    "上記の2つのモデルを比べると、`class_weight='balanced'`を使った方が感度とF1スコアに優れるということがわかりました。それではlogistic regressionを使って`class_weight='balanced'`を設定してモデル作成用データ全て(`X_model`と`y_model`)を用いて学習させて、テストデータ(`X_test`と`y_test`)に対する性能を評価してみてください。"
   ]
  },
  {
   "cell_type": "markdown",
   "metadata": {},
   "source": [
    "まず、モデル作成用データ全てを用いて学習するための分類器を定義します。"
   ]
  },
  {
   "cell_type": "code",
   "execution_count": 50,
   "metadata": {},
   "outputs": [],
   "source": [
    "lr_act = LogisticRegression(solver='liblinear', class_weight='balanced')"
   ]
  },
  {
   "cell_type": "markdown",
   "metadata": {},
   "source": [
    "**実践問題1**：上記で定義した`lr_act`を`X_model`と`y_model`を用いて学習させてください。"
   ]
  },
  {
   "cell_type": "code",
   "execution_count": 51,
   "metadata": {},
   "outputs": [
    {
     "data": {
      "text/plain": [
       "LogisticRegression(class_weight='balanced', solver='liblinear')"
      ]
     },
     "execution_count": 51,
     "metadata": {},
     "output_type": "execute_result"
    }
   ],
   "source": [
    "lr_act.fit(X_model, y_model)"
   ]
  },
  {
   "cell_type": "markdown",
   "metadata": {},
   "source": [
    "**実践問題2**：学習後の`lr_act`を使って`X_test`に対して予測を行い、予測結果を`y_pred`に格納してください。"
   ]
  },
  {
   "cell_type": "code",
   "execution_count": 52,
   "metadata": {},
   "outputs": [],
   "source": [
    "y_pred = lr_act.predict(X_test)"
   ]
  },
  {
   "cell_type": "markdown",
   "metadata": {},
   "source": [
    "下のセルを実行し、正解率、適合率、再現率、F1スコアを出力してください。"
   ]
  },
  {
   "cell_type": "code",
   "execution_count": 53,
   "metadata": {},
   "outputs": [
    {
     "name": "stdout",
     "output_type": "stream",
     "text": [
      "0.8\n",
      "0.34285714285714286\n",
      "0.5714285714285714\n",
      "0.42857142857142855\n"
     ]
    }
   ],
   "source": [
    "print(accuracy_score(y_test, y_pred))    #accuracy: 正解率\n",
    "print(precision_score(y_test, y_pred))   #precision: 適合率（陽性的中率)\n",
    "print(recall_score(y_test, y_pred))      #recall: 再現率（感度）\n",
    "print(f1_score(y_test, y_pred))          #F1 score: 再現率と適合率の調和平均　2*Precision*Recall/(Precision + Recall)"
   ]
  },
  {
   "cell_type": "markdown",
   "metadata": {},
   "source": [
    "下のセルを実行し、混同行列とROC曲線を出力してください。"
   ]
  },
  {
   "cell_type": "code",
   "execution_count": 54,
   "metadata": {},
   "outputs": [
    {
     "data": {
      "text/plain": [
       "<sklearn.metrics._plot.roc_curve.RocCurveDisplay at 0x7fa6a895ba60>"
      ]
     },
     "execution_count": 54,
     "metadata": {},
     "output_type": "execute_result"
    },
    {
     "data": {
      "image/png": "[encoded data removed]",
      "text/plain": [
       "<Figure size 432x288 with 2 Axes>"
      ]
     },
     "metadata": {
      "needs_background": "light"
     },
     "output_type": "display_data"
    },
    {
     "data": {
      "image/png": "[encoded data removed]",
      "text/plain": [
       "<Figure size 432x288 with 1 Axes>"
      ]
     },
     "metadata": {
      "needs_background": "light"
     },
     "output_type": "display_data"
    }
   ],
   "source": [
    "plot_confusion_matrix(lr_act, X_test, y_test, values_format = 'd')\n",
    "plot_roc_curve(lr_act, X_test, y_test)"
   ]
  },
  {
   "cell_type": "markdown",
   "metadata": {},
   "source": [
    "# 発展問題"
   ]
  },
  {
   "cell_type": "markdown",
   "metadata": {},
   "source": [
    "LogisticRegression関数は`class_weight`以外にも他にも様々なオプションが指定できます。  \n",
    "(参考: https://scikit-learn.org/stable/modules/generated/sklearn.linear_model.LogisticRegression.html )  \n",
    "オプションに`solver='liblinear'`を設定した条件のもとで、`penalty`、`C`、`class_weight`をいくつかの条件で試してみるとします。例えば、`penalty='l1'`、`C=1`、`class_weight='balanced'`のときは以下のように分類器を定義すれば良いことになります。\n",
    "```\n",
    "lr_tmp = LogisticRegression(solver='liblinear', penalty='l1', C=1, class_weight='balanced')\n",
    "```\n",
    "これらの条件を機械学習用語ではハイパーパラメータと呼びます。ハイパーパラメータは学習で得るパラメータではなく、設計者が指定する必要があるパラメータになります。ここで試してみるハイパーパラメータの条件をlist化して下のセルで定義します。"
   ]
  },
  {
   "cell_type": "code",
   "execution_count": 55,
   "metadata": {},
   "outputs": [],
   "source": [
    "penalty_list = ['l1', 'l2']\n",
    "C_list = [0.01, 0.1, 1, 10, 100]\n",
    "class_weight_list = [None, 'balanced']"
   ]
  },
  {
   "cell_type": "markdown",
   "metadata": {},
   "source": [
    "**発展問題1**：上記のリストとfor文を用い、全ての条件で分類器を作成し、それぞれの分類器で`X_train`と`y_train`を使って学習し、`X_tuning`と`y_tuning`に対するF1スコアを計算し、F1スコアを最大化する`penalty`、`C`、`class_weight`の条件を同定してください。"
   ]
  },
  {
   "cell_type": "code",
   "execution_count": 56,
   "metadata": {},
   "outputs": [
    {
     "name": "stdout",
     "output_type": "stream",
     "text": [
      "best f1_score:  0.4\n",
      "best penalty:  l1\n",
      "best C:  1\n",
      "best class_weight:  None\n"
     ]
    }
   ],
   "source": [
    "best_f1_score = 0               #ベストのF1スコアを最初0としておく\n",
    "best_penalty = None             #ベストのpenaltyを最初Noneとしておく\n",
    "best_C = None                   #ベストのCを最初Noneとしておく\n",
    "best_class_weight = None        #ベストのclass_weightを最初Noneとしておく\n",
    "\n",
    "for i in penalty_list:                                        #3段の入れ子にしたfor文で、全ての条件を試す\n",
    "    for j in C_list:\n",
    "        for k in class_weight_list:\n",
    "            \n",
    "            lr_tmp = LogisticRegression(solver='liblinear', penalty=i, C=j, class_weight=k)\n",
    "            lr_tmp.fit(X_train, y_train)\n",
    "            y_pred_tmp = lr_tmp.predict(X_tuning)\n",
    "            f1_score_tmp = f1_score(y_tuning, y_pred_tmp)\n",
    "            \n",
    "            if best_f1_score < f1_score_tmp:                  #計算して得られたF1スコアがbest_f1_scoreより大きければ上書き\n",
    "                best_f1_score = f1_score_tmp\n",
    "                best_penalty = i                              #best_penalty、best_C、best_class_weightも同時に上書き\n",
    "                best_C = j\n",
    "                best_class_weight = k\n",
    "\n",
    "print(\"best f1_score: \", best_f1_score)\n",
    "print(\"best penalty: \", best_penalty)\n",
    "print(\"best C: \", best_C)\n",
    "print(\"best class_weight: \", best_class_weight)     "
   ]
  },
  {
   "cell_type": "markdown",
   "metadata": {},
   "source": [
    "**発展問題2**：上記で得られたF1スコアを最大化する`penalty`、`C`、`class_weight`の条件を使って、学習用データ全て(`X_model`と`y_model`)を使って学習し、`X_test`と`y_test`に対する正解率、適合率、再現率、F1スコア、混同行列、ROC曲線を出力してください。"
   ]
  },
  {
   "cell_type": "code",
   "execution_count": 57,
   "metadata": {},
   "outputs": [],
   "source": [
    "lr_act = LogisticRegression(solver='liblinear', penalty='l1', C=0.1, class_weight='balanced')\n",
    "lr_act.fit(X_model, y_model)\n",
    "y_pred = lr_act.predict(X_test)"
   ]
  },
  {
   "cell_type": "code",
   "execution_count": 58,
   "metadata": {},
   "outputs": [
    {
     "name": "stdout",
     "output_type": "stream",
     "text": [
      "0.825\n",
      "0.3870967741935484\n",
      "0.5714285714285714\n",
      "0.4615384615384615\n"
     ]
    }
   ],
   "source": [
    "print(accuracy_score(y_test, y_pred))    #accuracy: 正解率\n",
    "print(precision_score(y_test, y_pred))   #precision: 適合率（陽性的中率)\n",
    "print(recall_score(y_test, y_pred))      #recall: 再現率（感度）\n",
    "print(f1_score(y_test, y_pred))          #F1 score: 再現率と適合率の調和平均　2*Precision*Recall/(Precision + Recall)"
   ]
  },
  {
   "cell_type": "code",
   "execution_count": 59,
   "metadata": {},
   "outputs": [
    {
     "data": {
      "text/plain": [
       "<sklearn.metrics._plot.roc_curve.RocCurveDisplay at 0x7fa6c8438ac0>"
      ]
     },
     "execution_count": 59,
     "metadata": {},
     "output_type": "execute_result"
    },
    {
     "data": {
      "image/png": "[encoded data removed]",
      "text/plain": [
       "<Figure size 432x288 with 2 Axes>"
      ]
     },
     "metadata": {
      "needs_background": "light"
     },
     "output_type": "display_data"
    },
    {
     "data": {
      "image/png": "[encoded data removed]",
      "text/plain": [
       "<Figure size 432x288 with 1 Axes>"
      ]
     },
     "metadata": {
      "needs_background": "light"
     },
     "output_type": "display_data"
    }
   ],
   "source": [
    "plot_confusion_matrix(lr_act, X_test, y_test, values_format = 'd')\n",
    "plot_roc_curve(lr_act, X_test, y_test)"
   ]
  },
  {
   "cell_type": "markdown",
   "metadata": {},
   "source": [
    "# 医用機械学習入門の手引きのための追記"
   ]
  },
  {
   "cell_type": "code",
   "execution_count": 60,
   "metadata": {},
   "outputs": [],
   "source": [
    "from sklearn.tree import DecisionTreeClassifier\n",
    "dct = DecisionTreeClassifier()"
   ]
  },
  {
   "cell_type": "code",
   "execution_count": 61,
   "metadata": {},
   "outputs": [
    {
     "data": {
      "text/plain": [
       "DecisionTreeClassifier()"
      ]
     },
     "execution_count": 61,
     "metadata": {},
     "output_type": "execute_result"
    }
   ],
   "source": [
    "dct.fit(X_train, y_train)"
   ]
  },
  {
   "cell_type": "code",
   "execution_count": 62,
   "metadata": {},
   "outputs": [],
   "source": [
    "y_pred_dct = dct.predict(X_tuning)"
   ]
  },
  {
   "cell_type": "code",
   "execution_count": 63,
   "metadata": {},
   "outputs": [
    {
     "name": "stdout",
     "output_type": "stream",
     "text": [
      "0.8125\n",
      "0.1875\n",
      "0.21428571428571427\n",
      "0.19999999999999998\n"
     ]
    }
   ],
   "source": [
    "print(accuracy_score(y_tuning, y_pred_dct))    #accuracy: 正解率\n",
    "print(precision_score(y_tuning, y_pred_dct))   #precision: 適合率（陽性的中率)\n",
    "print(recall_score(y_tuning, y_pred_dct))      #recall: 再現率（感度）\n",
    "print(f1_score(y_tuning, y_pred_dct))          #F1 score: 再現率と適合率の調和平均 2*Precision*Recall/(Precision + Recall)"
   ]
  },
  {
   "cell_type": "code",
   "execution_count": 64,
   "metadata": {},
   "outputs": [],
   "source": [
    "max_depth_list = [2, 3, 4]\n",
    "min_samples_leaf = [1, 2, 3, 4, 5, 6, 7, 8, 9, 10]\n",
    "min_samples_split = [2, 3, 4, ]\n",
    "class_weight_list = [None, 'balanced']"
   ]
  },
  {
   "cell_type": "code",
   "execution_count": 65,
   "metadata": {},
   "outputs": [],
   "source": [
    "param = {'max_depth':[1, 2, 3, 4, 5],\n",
    "         'min_samples_leaf':[1, 2, 3, 4, 5, 6, 7, 8, 9, 10],\n",
    "         'min_samples_split':[2, 3, 4, 5]}"
   ]
  },
  {
   "cell_type": "code",
   "execution_count": 66,
   "metadata": {},
   "outputs": [
    {
     "ename": "IndentationError",
     "evalue": "expected an indented block (<ipython-input-66-e26cf3806d74>, line 11)",
     "output_type": "error",
     "traceback": [
      "\u001b[0;36m  File \u001b[0;32m\"<ipython-input-66-e26cf3806d74>\"\u001b[0;36m, line \u001b[0;32m11\u001b[0m\n\u001b[0;31m    lr_tmp = LogisticRegression(solver='liblinear', penalty=i, C=j, class_weight=k)\u001b[0m\n\u001b[0m    ^\u001b[0m\n\u001b[0;31mIndentationError\u001b[0m\u001b[0;31m:\u001b[0m expected an indented block\n"
     ]
    }
   ],
   "source": [
    "best_max_depth = None               #ベストのF1スコアを最初0としておく\n",
    "best_min_samples_leaf = None             #ベストのpenaltyを最初Noneとしておく\n",
    "best_samples_split = None                   #ベストのCを最初Noneとしておく\n",
    "best_class_weight = None        #ベストのclass_weightを最初Noneとしておく\n",
    "\n",
    "for i in max_depth_list:                                        #3段の入れ子にしたfor文で、全ての条件を試す\n",
    "    for j in min_samples_leaf:\n",
    "        for k in min_samples_split:\n",
    "            for l in best_class_weight:\n",
    "            \n",
    "                lr_tmp = LogisticRegression(solver='liblinear', penalty=i, C=j, class_weight=k)\n",
    "                lr_tmp.fit(X_train, y_train)\n",
    "            y_pred_tmp = lr_tmp.predict(X_tuning)\n",
    "            f1_score_tmp = f1_score(y_tuning, y_pred_tmp)\n",
    "            \n",
    "            if best_f1_score < f1_score_tmp:                  #計算して得られたF1スコアがbest_f1_scoreより大きければ上書き\n",
    "                best_f1_score = f1_score_tmp\n",
    "                best_penalty = i                              #best_penalty、best_C、best_class_weightも同時に上書き\n",
    "                best_C = j\n",
    "                best_class_weight = k\n",
    "\n",
    "print(\"best f1_score: \", best_f1_score)\n",
    "print(\"best penalty: \", best_penalty)\n",
    "print(\"best C: \", best_C)\n",
    "print(\"best class_weight: \", best_class_weight)     "
   ]
  },
  {
   "cell_type": "code",
   "execution_count": null,
   "metadata": {},
   "outputs": [],
   "source": []
  },
  {
   "cell_type": "code",
   "execution_count": null,
   "metadata": {},
   "outputs": [],
   "source": []
  },
  {
   "cell_type": "code",
   "execution_count": null,
   "metadata": {},
   "outputs": [],
   "source": []
  },
  {
   "cell_type": "code",
   "execution_count": null,
   "metadata": {},
   "outputs": [],
   "source": []
  },
  {
   "cell_type": "code",
   "execution_count": null,
   "metadata": {},
   "outputs": [],
   "source": []
  },
  {
   "cell_type": "code",
   "execution_count": null,
   "metadata": {},
   "outputs": [],
   "source": []
  },
  {
   "cell_type": "code",
   "execution_count": null,
   "metadata": {},
   "outputs": [],
   "source": []
  },
  {
   "cell_type": "code",
   "execution_count": null,
   "metadata": {},
   "outputs": [],
   "source": []
  },
  {
   "cell_type": "code",
   "execution_count": null,
   "metadata": {},
   "outputs": [],
   "source": []
  }
 ],
 "metadata": {
  "kernelspec": {
   "display_name": "Python 3",
   "language": "python",
   "name": "python3"
  },
  "language_info": {
   "codemirror_mode": {
    "name": "ipython",
    "version": 3
   },
   "file_extension": ".py",
   "mimetype": "text/x-python",
   "name": "python",
   "nbconvert_exporter": "python",
   "pygments_lexer": "ipython3",
   "version": "3.8.2"
  }
 },
 "nbformat": 4,
 "nbformat_minor": 4
}
